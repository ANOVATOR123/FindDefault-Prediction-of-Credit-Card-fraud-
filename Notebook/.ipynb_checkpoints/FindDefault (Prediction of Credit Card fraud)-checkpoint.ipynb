{
 "cells": [
  {
   "cell_type": "markdown",
   "id": "1f281b1a",
   "metadata": {},
   "source": [
    "# We will load the necessary libraries that we need:"
   ]
  },
  {
   "cell_type": "code",
   "execution_count": 6,
   "id": "979633e8",
   "metadata": {},
   "outputs": [],
   "source": [
    "import pandas as pd\n",
    "import numpy as np\n",
    "import seaborn as sns\n",
    "import matplotlib.pyplot as plt\n",
    "\n",
    "%matplotlib inline\n",
    "plt.style.use('ggplot') \n",
    "# this will apply the 'ggplots' style to the matplotlib plots in the notebook."
   ]
  },
  {
   "cell_type": "markdown",
   "id": "ebd9951a",
   "metadata": {},
   "source": [
    "# We'll import the creditcard.csv data for preprocessing."
   ]
  },
  {
   "cell_type": "code",
   "execution_count": 7,
   "id": "63f64fba",
   "metadata": {},
   "outputs": [],
   "source": [
    "df = pd.read_csv(\"creditcard.csv\")"
   ]
  },
  {
   "cell_type": "code",
   "execution_count": 8,
   "id": "d1973065",
   "metadata": {},
   "outputs": [
    {
     "data": {
      "text/html": [
       "<div>\n",
       "<style scoped>\n",
       "    .dataframe tbody tr th:only-of-type {\n",
       "        vertical-align: middle;\n",
       "    }\n",
       "\n",
       "    .dataframe tbody tr th {\n",
       "        vertical-align: top;\n",
       "    }\n",
       "\n",
       "    .dataframe thead th {\n",
       "        text-align: right;\n",
       "    }\n",
       "</style>\n",
       "<table border=\"1\" class=\"dataframe\">\n",
       "  <thead>\n",
       "    <tr style=\"text-align: right;\">\n",
       "      <th></th>\n",
       "      <th>Time</th>\n",
       "      <th>V1</th>\n",
       "      <th>V2</th>\n",
       "      <th>V3</th>\n",
       "      <th>V4</th>\n",
       "      <th>V5</th>\n",
       "      <th>V6</th>\n",
       "      <th>V7</th>\n",
       "      <th>V8</th>\n",
       "      <th>V9</th>\n",
       "      <th>...</th>\n",
       "      <th>V21</th>\n",
       "      <th>V22</th>\n",
       "      <th>V23</th>\n",
       "      <th>V24</th>\n",
       "      <th>V25</th>\n",
       "      <th>V26</th>\n",
       "      <th>V27</th>\n",
       "      <th>V28</th>\n",
       "      <th>Amount</th>\n",
       "      <th>Class</th>\n",
       "    </tr>\n",
       "  </thead>\n",
       "  <tbody>\n",
       "    <tr>\n",
       "      <th>0</th>\n",
       "      <td>0.0</td>\n",
       "      <td>-1.359807</td>\n",
       "      <td>-0.072781</td>\n",
       "      <td>2.536347</td>\n",
       "      <td>1.378155</td>\n",
       "      <td>-0.338321</td>\n",
       "      <td>0.462388</td>\n",
       "      <td>0.239599</td>\n",
       "      <td>0.098698</td>\n",
       "      <td>0.363787</td>\n",
       "      <td>...</td>\n",
       "      <td>-0.018307</td>\n",
       "      <td>0.277838</td>\n",
       "      <td>-0.110474</td>\n",
       "      <td>0.066928</td>\n",
       "      <td>0.128539</td>\n",
       "      <td>-0.189115</td>\n",
       "      <td>0.133558</td>\n",
       "      <td>-0.021053</td>\n",
       "      <td>149.62</td>\n",
       "      <td>0</td>\n",
       "    </tr>\n",
       "    <tr>\n",
       "      <th>1</th>\n",
       "      <td>0.0</td>\n",
       "      <td>1.191857</td>\n",
       "      <td>0.266151</td>\n",
       "      <td>0.166480</td>\n",
       "      <td>0.448154</td>\n",
       "      <td>0.060018</td>\n",
       "      <td>-0.082361</td>\n",
       "      <td>-0.078803</td>\n",
       "      <td>0.085102</td>\n",
       "      <td>-0.255425</td>\n",
       "      <td>...</td>\n",
       "      <td>-0.225775</td>\n",
       "      <td>-0.638672</td>\n",
       "      <td>0.101288</td>\n",
       "      <td>-0.339846</td>\n",
       "      <td>0.167170</td>\n",
       "      <td>0.125895</td>\n",
       "      <td>-0.008983</td>\n",
       "      <td>0.014724</td>\n",
       "      <td>2.69</td>\n",
       "      <td>0</td>\n",
       "    </tr>\n",
       "    <tr>\n",
       "      <th>2</th>\n",
       "      <td>1.0</td>\n",
       "      <td>-1.358354</td>\n",
       "      <td>-1.340163</td>\n",
       "      <td>1.773209</td>\n",
       "      <td>0.379780</td>\n",
       "      <td>-0.503198</td>\n",
       "      <td>1.800499</td>\n",
       "      <td>0.791461</td>\n",
       "      <td>0.247676</td>\n",
       "      <td>-1.514654</td>\n",
       "      <td>...</td>\n",
       "      <td>0.247998</td>\n",
       "      <td>0.771679</td>\n",
       "      <td>0.909412</td>\n",
       "      <td>-0.689281</td>\n",
       "      <td>-0.327642</td>\n",
       "      <td>-0.139097</td>\n",
       "      <td>-0.055353</td>\n",
       "      <td>-0.059752</td>\n",
       "      <td>378.66</td>\n",
       "      <td>0</td>\n",
       "    </tr>\n",
       "    <tr>\n",
       "      <th>3</th>\n",
       "      <td>1.0</td>\n",
       "      <td>-0.966272</td>\n",
       "      <td>-0.185226</td>\n",
       "      <td>1.792993</td>\n",
       "      <td>-0.863291</td>\n",
       "      <td>-0.010309</td>\n",
       "      <td>1.247203</td>\n",
       "      <td>0.237609</td>\n",
       "      <td>0.377436</td>\n",
       "      <td>-1.387024</td>\n",
       "      <td>...</td>\n",
       "      <td>-0.108300</td>\n",
       "      <td>0.005274</td>\n",
       "      <td>-0.190321</td>\n",
       "      <td>-1.175575</td>\n",
       "      <td>0.647376</td>\n",
       "      <td>-0.221929</td>\n",
       "      <td>0.062723</td>\n",
       "      <td>0.061458</td>\n",
       "      <td>123.50</td>\n",
       "      <td>0</td>\n",
       "    </tr>\n",
       "    <tr>\n",
       "      <th>4</th>\n",
       "      <td>2.0</td>\n",
       "      <td>-1.158233</td>\n",
       "      <td>0.877737</td>\n",
       "      <td>1.548718</td>\n",
       "      <td>0.403034</td>\n",
       "      <td>-0.407193</td>\n",
       "      <td>0.095921</td>\n",
       "      <td>0.592941</td>\n",
       "      <td>-0.270533</td>\n",
       "      <td>0.817739</td>\n",
       "      <td>...</td>\n",
       "      <td>-0.009431</td>\n",
       "      <td>0.798278</td>\n",
       "      <td>-0.137458</td>\n",
       "      <td>0.141267</td>\n",
       "      <td>-0.206010</td>\n",
       "      <td>0.502292</td>\n",
       "      <td>0.219422</td>\n",
       "      <td>0.215153</td>\n",
       "      <td>69.99</td>\n",
       "      <td>0</td>\n",
       "    </tr>\n",
       "    <tr>\n",
       "      <th>...</th>\n",
       "      <td>...</td>\n",
       "      <td>...</td>\n",
       "      <td>...</td>\n",
       "      <td>...</td>\n",
       "      <td>...</td>\n",
       "      <td>...</td>\n",
       "      <td>...</td>\n",
       "      <td>...</td>\n",
       "      <td>...</td>\n",
       "      <td>...</td>\n",
       "      <td>...</td>\n",
       "      <td>...</td>\n",
       "      <td>...</td>\n",
       "      <td>...</td>\n",
       "      <td>...</td>\n",
       "      <td>...</td>\n",
       "      <td>...</td>\n",
       "      <td>...</td>\n",
       "      <td>...</td>\n",
       "      <td>...</td>\n",
       "      <td>...</td>\n",
       "    </tr>\n",
       "    <tr>\n",
       "      <th>284802</th>\n",
       "      <td>172786.0</td>\n",
       "      <td>-11.881118</td>\n",
       "      <td>10.071785</td>\n",
       "      <td>-9.834783</td>\n",
       "      <td>-2.066656</td>\n",
       "      <td>-5.364473</td>\n",
       "      <td>-2.606837</td>\n",
       "      <td>-4.918215</td>\n",
       "      <td>7.305334</td>\n",
       "      <td>1.914428</td>\n",
       "      <td>...</td>\n",
       "      <td>0.213454</td>\n",
       "      <td>0.111864</td>\n",
       "      <td>1.014480</td>\n",
       "      <td>-0.509348</td>\n",
       "      <td>1.436807</td>\n",
       "      <td>0.250034</td>\n",
       "      <td>0.943651</td>\n",
       "      <td>0.823731</td>\n",
       "      <td>0.77</td>\n",
       "      <td>0</td>\n",
       "    </tr>\n",
       "    <tr>\n",
       "      <th>284803</th>\n",
       "      <td>172787.0</td>\n",
       "      <td>-0.732789</td>\n",
       "      <td>-0.055080</td>\n",
       "      <td>2.035030</td>\n",
       "      <td>-0.738589</td>\n",
       "      <td>0.868229</td>\n",
       "      <td>1.058415</td>\n",
       "      <td>0.024330</td>\n",
       "      <td>0.294869</td>\n",
       "      <td>0.584800</td>\n",
       "      <td>...</td>\n",
       "      <td>0.214205</td>\n",
       "      <td>0.924384</td>\n",
       "      <td>0.012463</td>\n",
       "      <td>-1.016226</td>\n",
       "      <td>-0.606624</td>\n",
       "      <td>-0.395255</td>\n",
       "      <td>0.068472</td>\n",
       "      <td>-0.053527</td>\n",
       "      <td>24.79</td>\n",
       "      <td>0</td>\n",
       "    </tr>\n",
       "    <tr>\n",
       "      <th>284804</th>\n",
       "      <td>172788.0</td>\n",
       "      <td>1.919565</td>\n",
       "      <td>-0.301254</td>\n",
       "      <td>-3.249640</td>\n",
       "      <td>-0.557828</td>\n",
       "      <td>2.630515</td>\n",
       "      <td>3.031260</td>\n",
       "      <td>-0.296827</td>\n",
       "      <td>0.708417</td>\n",
       "      <td>0.432454</td>\n",
       "      <td>...</td>\n",
       "      <td>0.232045</td>\n",
       "      <td>0.578229</td>\n",
       "      <td>-0.037501</td>\n",
       "      <td>0.640134</td>\n",
       "      <td>0.265745</td>\n",
       "      <td>-0.087371</td>\n",
       "      <td>0.004455</td>\n",
       "      <td>-0.026561</td>\n",
       "      <td>67.88</td>\n",
       "      <td>0</td>\n",
       "    </tr>\n",
       "    <tr>\n",
       "      <th>284805</th>\n",
       "      <td>172788.0</td>\n",
       "      <td>-0.240440</td>\n",
       "      <td>0.530483</td>\n",
       "      <td>0.702510</td>\n",
       "      <td>0.689799</td>\n",
       "      <td>-0.377961</td>\n",
       "      <td>0.623708</td>\n",
       "      <td>-0.686180</td>\n",
       "      <td>0.679145</td>\n",
       "      <td>0.392087</td>\n",
       "      <td>...</td>\n",
       "      <td>0.265245</td>\n",
       "      <td>0.800049</td>\n",
       "      <td>-0.163298</td>\n",
       "      <td>0.123205</td>\n",
       "      <td>-0.569159</td>\n",
       "      <td>0.546668</td>\n",
       "      <td>0.108821</td>\n",
       "      <td>0.104533</td>\n",
       "      <td>10.00</td>\n",
       "      <td>0</td>\n",
       "    </tr>\n",
       "    <tr>\n",
       "      <th>284806</th>\n",
       "      <td>172792.0</td>\n",
       "      <td>-0.533413</td>\n",
       "      <td>-0.189733</td>\n",
       "      <td>0.703337</td>\n",
       "      <td>-0.506271</td>\n",
       "      <td>-0.012546</td>\n",
       "      <td>-0.649617</td>\n",
       "      <td>1.577006</td>\n",
       "      <td>-0.414650</td>\n",
       "      <td>0.486180</td>\n",
       "      <td>...</td>\n",
       "      <td>0.261057</td>\n",
       "      <td>0.643078</td>\n",
       "      <td>0.376777</td>\n",
       "      <td>0.008797</td>\n",
       "      <td>-0.473649</td>\n",
       "      <td>-0.818267</td>\n",
       "      <td>-0.002415</td>\n",
       "      <td>0.013649</td>\n",
       "      <td>217.00</td>\n",
       "      <td>0</td>\n",
       "    </tr>\n",
       "  </tbody>\n",
       "</table>\n",
       "<p>284807 rows × 31 columns</p>\n",
       "</div>"
      ],
      "text/plain": [
       "            Time         V1         V2        V3        V4        V5  \\\n",
       "0            0.0  -1.359807  -0.072781  2.536347  1.378155 -0.338321   \n",
       "1            0.0   1.191857   0.266151  0.166480  0.448154  0.060018   \n",
       "2            1.0  -1.358354  -1.340163  1.773209  0.379780 -0.503198   \n",
       "3            1.0  -0.966272  -0.185226  1.792993 -0.863291 -0.010309   \n",
       "4            2.0  -1.158233   0.877737  1.548718  0.403034 -0.407193   \n",
       "...          ...        ...        ...       ...       ...       ...   \n",
       "284802  172786.0 -11.881118  10.071785 -9.834783 -2.066656 -5.364473   \n",
       "284803  172787.0  -0.732789  -0.055080  2.035030 -0.738589  0.868229   \n",
       "284804  172788.0   1.919565  -0.301254 -3.249640 -0.557828  2.630515   \n",
       "284805  172788.0  -0.240440   0.530483  0.702510  0.689799 -0.377961   \n",
       "284806  172792.0  -0.533413  -0.189733  0.703337 -0.506271 -0.012546   \n",
       "\n",
       "              V6        V7        V8        V9  ...       V21       V22  \\\n",
       "0       0.462388  0.239599  0.098698  0.363787  ... -0.018307  0.277838   \n",
       "1      -0.082361 -0.078803  0.085102 -0.255425  ... -0.225775 -0.638672   \n",
       "2       1.800499  0.791461  0.247676 -1.514654  ...  0.247998  0.771679   \n",
       "3       1.247203  0.237609  0.377436 -1.387024  ... -0.108300  0.005274   \n",
       "4       0.095921  0.592941 -0.270533  0.817739  ... -0.009431  0.798278   \n",
       "...          ...       ...       ...       ...  ...       ...       ...   \n",
       "284802 -2.606837 -4.918215  7.305334  1.914428  ...  0.213454  0.111864   \n",
       "284803  1.058415  0.024330  0.294869  0.584800  ...  0.214205  0.924384   \n",
       "284804  3.031260 -0.296827  0.708417  0.432454  ...  0.232045  0.578229   \n",
       "284805  0.623708 -0.686180  0.679145  0.392087  ...  0.265245  0.800049   \n",
       "284806 -0.649617  1.577006 -0.414650  0.486180  ...  0.261057  0.643078   \n",
       "\n",
       "             V23       V24       V25       V26       V27       V28  Amount  \\\n",
       "0      -0.110474  0.066928  0.128539 -0.189115  0.133558 -0.021053  149.62   \n",
       "1       0.101288 -0.339846  0.167170  0.125895 -0.008983  0.014724    2.69   \n",
       "2       0.909412 -0.689281 -0.327642 -0.139097 -0.055353 -0.059752  378.66   \n",
       "3      -0.190321 -1.175575  0.647376 -0.221929  0.062723  0.061458  123.50   \n",
       "4      -0.137458  0.141267 -0.206010  0.502292  0.219422  0.215153   69.99   \n",
       "...          ...       ...       ...       ...       ...       ...     ...   \n",
       "284802  1.014480 -0.509348  1.436807  0.250034  0.943651  0.823731    0.77   \n",
       "284803  0.012463 -1.016226 -0.606624 -0.395255  0.068472 -0.053527   24.79   \n",
       "284804 -0.037501  0.640134  0.265745 -0.087371  0.004455 -0.026561   67.88   \n",
       "284805 -0.163298  0.123205 -0.569159  0.546668  0.108821  0.104533   10.00   \n",
       "284806  0.376777  0.008797 -0.473649 -0.818267 -0.002415  0.013649  217.00   \n",
       "\n",
       "        Class  \n",
       "0           0  \n",
       "1           0  \n",
       "2           0  \n",
       "3           0  \n",
       "4           0  \n",
       "...       ...  \n",
       "284802      0  \n",
       "284803      0  \n",
       "284804      0  \n",
       "284805      0  \n",
       "284806      0  \n",
       "\n",
       "[284807 rows x 31 columns]"
      ]
     },
     "execution_count": 8,
     "metadata": {},
     "output_type": "execute_result"
    }
   ],
   "source": [
    "df"
   ]
  },
  {
   "cell_type": "code",
   "execution_count": 9,
   "id": "9e840aa1",
   "metadata": {},
   "outputs": [],
   "source": [
    "# To protect the user's identity and the security of their confidential information, the dataset provider has applied Principal Component Analysis transformation on the original numerical features and compressed it into 28 principals components.\n",
    "# Only two features have not been transformed: 1) time, and 2) amount.\n",
    "# The feature class will be target column, with user labels as follows:\n",
    "\n",
    "# 0: indicates non-fradulent\n",
    "# 1: Fraudulent.\n"
   ]
  },
  {
   "cell_type": "code",
   "execution_count": 10,
   "id": "f7d55bef",
   "metadata": {},
   "outputs": [
    {
     "name": "stdout",
     "output_type": "stream",
     "text": [
      "<class 'pandas.core.frame.DataFrame'>\n",
      "RangeIndex: 284807 entries, 0 to 284806\n",
      "Data columns (total 31 columns):\n",
      " #   Column  Non-Null Count   Dtype  \n",
      "---  ------  --------------   -----  \n",
      " 0   Time    284807 non-null  float64\n",
      " 1   V1      284807 non-null  float64\n",
      " 2   V2      284807 non-null  float64\n",
      " 3   V3      284807 non-null  float64\n",
      " 4   V4      284807 non-null  float64\n",
      " 5   V5      284807 non-null  float64\n",
      " 6   V6      284807 non-null  float64\n",
      " 7   V7      284807 non-null  float64\n",
      " 8   V8      284807 non-null  float64\n",
      " 9   V9      284807 non-null  float64\n",
      " 10  V10     284807 non-null  float64\n",
      " 11  V11     284807 non-null  float64\n",
      " 12  V12     284807 non-null  float64\n",
      " 13  V13     284807 non-null  float64\n",
      " 14  V14     284807 non-null  float64\n",
      " 15  V15     284807 non-null  float64\n",
      " 16  V16     284807 non-null  float64\n",
      " 17  V17     284807 non-null  float64\n",
      " 18  V18     284807 non-null  float64\n",
      " 19  V19     284807 non-null  float64\n",
      " 20  V20     284807 non-null  float64\n",
      " 21  V21     284807 non-null  float64\n",
      " 22  V22     284807 non-null  float64\n",
      " 23  V23     284807 non-null  float64\n",
      " 24  V24     284807 non-null  float64\n",
      " 25  V25     284807 non-null  float64\n",
      " 26  V26     284807 non-null  float64\n",
      " 27  V27     284807 non-null  float64\n",
      " 28  V28     284807 non-null  float64\n",
      " 29  Amount  284807 non-null  float64\n",
      " 30  Class   284807 non-null  int64  \n",
      "dtypes: float64(30), int64(1)\n",
      "memory usage: 67.4 MB\n"
     ]
    }
   ],
   "source": [
    "df.info()"
   ]
  },
  {
   "cell_type": "code",
   "execution_count": 11,
   "id": "457a3809",
   "metadata": {},
   "outputs": [
    {
     "data": {
      "text/plain": [
       "Time      0\n",
       "V1        0\n",
       "V2        0\n",
       "V3        0\n",
       "V4        0\n",
       "V5        0\n",
       "V6        0\n",
       "V7        0\n",
       "V8        0\n",
       "V9        0\n",
       "V10       0\n",
       "V11       0\n",
       "V12       0\n",
       "V13       0\n",
       "V14       0\n",
       "V15       0\n",
       "V16       0\n",
       "V17       0\n",
       "V18       0\n",
       "V19       0\n",
       "V20       0\n",
       "V21       0\n",
       "V22       0\n",
       "V23       0\n",
       "V24       0\n",
       "V25       0\n",
       "V26       0\n",
       "V27       0\n",
       "V28       0\n",
       "Amount    0\n",
       "Class     0\n",
       "dtype: int64"
      ]
     },
     "execution_count": 11,
     "metadata": {},
     "output_type": "execute_result"
    }
   ],
   "source": [
    "df.isnull().sum()"
   ]
  },
  {
   "cell_type": "code",
   "execution_count": 12,
   "id": "d6f4e14e",
   "metadata": {},
   "outputs": [],
   "source": [
    "# The dataset only contains numerical features, and there are no instances of missing values. As a result, there is no requirement to handle null values in this dataset."
   ]
  },
  {
   "cell_type": "markdown",
   "id": "6a8e80fe",
   "metadata": {},
   "source": [
    "# Exploratory Data Analysis"
   ]
  },
  {
   "cell_type": "code",
   "execution_count": 13,
   "id": "5ea861b4",
   "metadata": {},
   "outputs": [],
   "source": [
    "#In the following stage, we will do fundamental Exploratory Data Analysis (EDA) on the dataset to improve our understanding and extract useful insights.\n"
   ]
  },
  {
   "cell_type": "code",
   "execution_count": 14,
   "id": "12aca8eb",
   "metadata": {},
   "outputs": [],
   "source": [
    "# before that we will set the default graph figsize property\n",
    "plt.rcParams['figure.figsize']=[8,6]"
   ]
  },
  {
   "cell_type": "code",
   "execution_count": 15,
   "id": "f88c22ed",
   "metadata": {},
   "outputs": [
    {
     "data": {
      "text/plain": [
       "Class\n",
       "0    284315\n",
       "1       492\n",
       "Name: count, dtype: int64"
      ]
     },
     "execution_count": 15,
     "metadata": {},
     "output_type": "execute_result"
    }
   ],
   "source": [
    "Class = df['Class'].value_counts()\n",
    "Class"
   ]
  },
  {
   "cell_type": "code",
   "execution_count": 16,
   "id": "18806fe7",
   "metadata": {},
   "outputs": [
    {
     "data": {
      "image/png": "[encoded data removed]",
      "text/plain": [
       "<Figure size 800x600 with 1 Axes>"
      ]
     },
     "metadata": {},
     "output_type": "display_data"
    }
   ],
   "source": [
    "labels = ['Non Fradulent','Fraudulent']\n",
    "plt.bar(labels, Class.values, color=['Blue','Green'])\n",
    "plt.title(\"Non-Fraudulent Vs Fraudulent Transactions\")\n",
    "plt.xlabel('Class')\n",
    "plt.ylabel('Count')\n",
    "#save the above graph as PNG file\n",
    "plt.savefig(\"Non-Fraudulent_Vs_Fraudulent_Transactions.png\")\n",
    "plt.show()"
   ]
  },
  {
   "cell_type": "code",
   "execution_count": 17,
   "id": "971d0203",
   "metadata": {},
   "outputs": [],
   "source": [
    "# The barplot shows a considerable imbalance between the classifications (0-Non Fraudulent) and (1-Fraudulent).\n",
    "\n",
    "# The majority of features are in PCA format, with the exception of Time and Amount, which require further analysis.\n"
   ]
  },
  {
   "cell_type": "code",
   "execution_count": 18,
   "id": "4e9ab805",
   "metadata": {},
   "outputs": [
    {
     "data": {
      "text/plain": [
       "count    284807.000000\n",
       "mean      94813.859575\n",
       "std       47488.145955\n",
       "min           0.000000\n",
       "25%       54201.500000\n",
       "50%       84692.000000\n",
       "75%      139320.500000\n",
       "max      172792.000000\n",
       "Name: Time, dtype: float64"
      ]
     },
     "execution_count": 18,
     "metadata": {},
     "output_type": "execute_result"
    }
   ],
   "source": [
    "df['Time'].describe()"
   ]
  },
  {
   "cell_type": "code",
   "execution_count": 19,
   "id": "e23a1256",
   "metadata": {},
   "outputs": [],
   "source": [
    "# The feature we are most interested in is the \"Amount\". Here us the summary of the feature"
   ]
  },
  {
   "cell_type": "code",
   "execution_count": 20,
   "id": "1cdc7dd7",
   "metadata": {},
   "outputs": [
    {
     "data": {
      "text/plain": [
       "count    284807.000000\n",
       "mean         88.349619\n",
       "std         250.120109\n",
       "min           0.000000\n",
       "25%           5.600000\n",
       "50%          22.000000\n",
       "75%          77.165000\n",
       "max       25691.160000\n",
       "Name: Amount, dtype: float64"
      ]
     },
     "execution_count": 20,
     "metadata": {},
     "output_type": "execute_result"
    }
   ],
   "source": [
    "df['Amount'].describe()"
   ]
  },
  {
   "cell_type": "code",
   "execution_count": 21,
   "id": "c58381f2",
   "metadata": {},
   "outputs": [],
   "source": [
    "# We will begin by visualizing the transaction counts by hour, using the complete dataset. Next, we will divide the dataset into fraudulent and non-fraudulent transactions to provide a clearer understanding.\n",
    "# Now, we will analyze the frequency of each class label and display the results using matplotlib."
   ]
  },
  {
   "cell_type": "code",
   "execution_count": 22,
   "id": "d95b88c9",
   "metadata": {},
   "outputs": [],
   "source": [
    "non_fraud = len(df[df.Class==0])\n",
    "fraud = len(df[df.Class==1])\n",
    "fraud_percentage = round((fraud/ (fraud+ non_fraud)) * 100, 2)"
   ]
  },
  {
   "cell_type": "code",
   "execution_count": 23,
   "id": "29fb2f50",
   "metadata": {},
   "outputs": [
    {
     "name": "stdout",
     "output_type": "stream",
     "text": [
      "Number of Non-Fraudulent Transactions:  284315\n",
      "Number of Fraudulent Transactions:  492\n",
      "Percentage of Fraudulent Transactions:  0.17\n"
     ]
    }
   ],
   "source": [
    "print(\"Number of Non-Fraudulent Transactions: \",non_fraud)\n",
    "print(\"Number of Fraudulent Transactions: \", fraud)\n",
    "print(\"Percentage of Fraudulent Transactions: \",fraud_percentage)"
   ]
  },
  {
   "cell_type": "code",
   "execution_count": 24,
   "id": "6e2cba63",
   "metadata": {},
   "outputs": [],
   "source": [
    "# It's evident that authentic transactions account for more than 99%.\n",
    "# We plan to implement scaling methods on the \"Amount\" feature to adjust the value range. \n",
    "# We will eliminate the original \"Amount\" column and incorporate a new column containing the scaled values. Additionally, we will remove the \"Time\" columns since they are not relevant."
   ]
  },
  {
   "cell_type": "code",
   "execution_count": 25,
   "id": "0a903a1f",
   "metadata": {},
   "outputs": [],
   "source": [
    "from sklearn.preprocessing import StandardScaler\n",
    "\n",
    "scaler = StandardScaler()\n",
    "\n",
    "df['Scaled_Amount'] = scaler.fit_transform(df['Amount'].values.reshape(-1,1))"
   ]
  },
  {
   "cell_type": "code",
   "execution_count": 26,
   "id": "8dd94c64",
   "metadata": {},
   "outputs": [],
   "source": [
    "df.drop(columns=['Amount','Time'], inplace=True ,axis=1)\n",
    "\n",
    "Y = df['Class']\n",
    "X = df.drop(['Class'], axis=1)"
   ]
  },
  {
   "cell_type": "code",
   "execution_count": 27,
   "id": "996c0687",
   "metadata": {},
   "outputs": [],
   "source": [
    "# We will now divide the credit card data using a 70-30 ratio through the train_test_split() function.\n",
    "# The train_test_split() method in scikit-learn is an effective tool for partitioning a dataset into training and testing components.\n",
    "# Parameters\n",
    "# X: Feature matrix\n",
    "# Y: Target variable\n",
    "#test_size: Proportion of the dataset to include in the test split. Here we have set the test_size as 0.3 means 30% of the data we take as testing data set.\n",
    "#random_state: we have set the seed for random number generation, to ensure the reproducibility"
   ]
  },
  {
   "cell_type": "code",
   "execution_count": 28,
   "id": "cab5ea56",
   "metadata": {},
   "outputs": [],
   "source": [
    "from sklearn.model_selection import train_test_split\n",
    "\n",
    "(train_X, test_X, train_Y, test_Y) = train_test_split(X,Y, test_size=0.3, random_state=42)"
   ]
  },
  {
   "cell_type": "code",
   "execution_count": 29,
   "id": "67b7610b",
   "metadata": {},
   "outputs": [
    {
     "name": "stdout",
     "output_type": "stream",
     "text": [
      "Shape of the training dataset train_X:  (199364, 29)\n",
      "Shape of the testing dataset test_X:  (85443, 29)\n"
     ]
    }
   ],
   "source": [
    "print(\"Shape of the training dataset train_X: \", train_X.shape)\n",
    "print(\"Shape of the testing dataset test_X: \", test_X.shape)"
   ]
  },
  {
   "cell_type": "markdown",
   "id": "f0506ed7",
   "metadata": {},
   "source": [
    "# Implementing a machine learning algorithm on a credit card dataset."
   ]
  },
  {
   "cell_type": "code",
   "execution_count": 30,
   "id": "9ce3a68e",
   "metadata": {},
   "outputs": [],
   "source": [
    "# We will evaluate several machine learning algorithms to identify the best model for our binary classification task.\n",
    "\n",
    "# The goal is to predict one of two possible class labels. We aim to assess the performance of various algorithms, including Random Forest and Decision Tree, to determine the most appropriate solution for our problem.\n",
    "\n",
    "# Our strategy includes building Random Forest and Decision Tree classifiers to pinpoint the most effective model."
   ]
  },
  {
   "cell_type": "markdown",
   "id": "41d69723",
   "metadata": {},
   "source": [
    "# Decision Tree Algorithm"
   ]
  },
  {
   "cell_type": "code",
   "execution_count": 31,
   "id": "5014cccc",
   "metadata": {},
   "outputs": [],
   "source": [
    "# The Decision Tree algorithm is a supervised machine learning method used for both classification and regression tasks. Its goal is to build a model that can predict the value of a target class variable. \n",
    "# This is done by learning simple if-then-else decision rules based on patterns found in the training data."
   ]
  },
  {
   "cell_type": "markdown",
   "id": "b5187d4a",
   "metadata": {},
   "source": [
    "# Random Forest Algorithm"
   ]
  },
  {
   "cell_type": "code",
   "execution_count": 32,
   "id": "05f0dbb3",
   "metadata": {},
   "outputs": [],
   "source": [
    "# Random Forest is a supervised machine learning algorithm that builds a \"forest\" by combining an ensemble of \"decision trees,\" usually trained through the \"bagging\" method.\n",
    "\n",
    "# The fundamental idea behind bagging is that combining various models improves performance. Random Forest generates multiple decision trees and merges their predictions to achieve more accurate and consistent results."
   ]
  },
  {
   "cell_type": "markdown",
   "id": "b6a8bfe6",
   "metadata": {},
   "source": [
    "# Model Training and Evaluation on the Dataset"
   ]
  },
  {
   "cell_type": "code",
   "execution_count": 33,
   "id": "89d0dff0",
   "metadata": {},
   "outputs": [],
   "source": [
    "from sklearn.ensemble import RandomForestClassifier\n",
    "from sklearn.tree import DecisionTreeClassifier"
   ]
  },
  {
   "cell_type": "code",
   "execution_count": 34,
   "id": "421a9fea",
   "metadata": {},
   "outputs": [],
   "source": [
    "# Decision Tree\n",
    "decision_tree = DecisionTreeClassifier()\n",
    "\n",
    "# Random Forest\n",
    "random_forest = RandomForestClassifier(n_estimators=100)"
   ]
  },
  {
   "cell_type": "code",
   "execution_count": 35,
   "id": "3194d710",
   "metadata": {},
   "outputs": [],
   "source": [
    "# In this case, we are constructing a RandomForestClassifier with 100 trees in the forest. While a larger number of trees typically enhances performance, it may also result in longer training times."
   ]
  },
  {
   "cell_type": "code",
   "execution_count": 36,
   "id": "7d7d67ca",
   "metadata": {},
   "outputs": [],
   "source": [
    "# Decision Tree Classifier\n",
    "decision_tree.fit(train_X, train_Y)\n",
    "predictions_data = decision_tree.predict(test_X)"
   ]
  },
  {
   "cell_type": "code",
   "execution_count": 37,
   "id": "07e0e691",
   "metadata": {},
   "outputs": [],
   "source": [
    "# Next, we will evaluate the performance of the Decision Tree model."
   ]
  },
  {
   "cell_type": "code",
   "execution_count": 38,
   "id": "ee3abac3",
   "metadata": {},
   "outputs": [
    {
     "name": "stdout",
     "output_type": "stream",
     "text": [
      "Decision Tree Score is:  99.91807403766254\n"
     ]
    }
   ],
   "source": [
    "decision_tree_score = decision_tree.score(test_X, test_Y) * 100\n",
    "\n",
    "# Printing the score of the classifier\n",
    "print(\"Decision Tree Score is: \", decision_tree_score)"
   ]
  },
  {
   "cell_type": "code",
   "execution_count": 39,
   "id": "6bab1db2",
   "metadata": {},
   "outputs": [],
   "source": [
    "# Random Forest"
   ]
  },
  {
   "cell_type": "code",
   "execution_count": 40,
   "id": "b6a414a5",
   "metadata": {},
   "outputs": [],
   "source": [
    "random_forest.fit(train_X, train_Y)\n",
    "predictions_data_rf = random_forest.predict(test_X)"
   ]
  },
  {
   "cell_type": "code",
   "execution_count": 41,
   "id": "f7b6b782",
   "metadata": {},
   "outputs": [],
   "source": [
    "random_forest_score = random_forest.score(test_X, test_Y) * 100\n"
   ]
  },
  {
   "cell_type": "code",
   "execution_count": 42,
   "id": "a4da0845",
   "metadata": {},
   "outputs": [],
   "source": [
    "# Printing the score of the Random Forest Classifiers"
   ]
  },
  {
   "cell_type": "code",
   "execution_count": 43,
   "id": "8453a215",
   "metadata": {},
   "outputs": [
    {
     "name": "stdout",
     "output_type": "stream",
     "text": [
      "Random Forest Score is:  99.95552590615966\n"
     ]
    }
   ],
   "source": [
    "print(\"Random Forest Score is: \", random_forest_score)"
   ]
  },
  {
   "cell_type": "code",
   "execution_count": 44,
   "id": "3ceed9eb",
   "metadata": {},
   "outputs": [
    {
     "name": "stdout",
     "output_type": "stream",
     "text": [
      "Decision Tree:  99.9181\n",
      "Random Forest:  99.9555\n"
     ]
    }
   ],
   "source": [
    "# Printing the scores of the both classifiers\n",
    "print(\"Decision Tree: \", round((decision_tree_score),4))\n",
    "print(\"Random Forest: \", round((random_forest_score),4))"
   ]
  },
  {
   "cell_type": "code",
   "execution_count": 45,
   "id": "0a062b69",
   "metadata": {},
   "outputs": [],
   "source": [
    "#The Random Forest classifier generally outperforms the Decision Tree classifier by a small margin."
   ]
  },
  {
   "cell_type": "markdown",
   "id": "a560a1af",
   "metadata": {},
   "source": [
    "# Evaluation Metrics"
   ]
  },
  {
   "cell_type": "code",
   "execution_count": 46,
   "id": "ad085153",
   "metadata": {},
   "outputs": [],
   "source": [
    "# We will define a function to display the metrics."
   ]
  },
  {
   "cell_type": "markdown",
   "id": "2e755b10",
   "metadata": {},
   "source": [
    "1.Accuracy_score\n",
    "2.Precision_score\n",
    "3.Confusion_matrix\n",
    "4.Recall_score\n",
    "5.F-1 score"
   ]
  },
  {
   "cell_type": "code",
   "execution_count": 47,
   "id": "d0703937",
   "metadata": {},
   "outputs": [],
   "source": [
    "from sklearn.metrics import accuracy_score, precision_score, confusion_matrix, recall_score, f1_score"
   ]
  },
  {
   "cell_type": "markdown",
   "id": "cc147fbc",
   "metadata": {},
   "source": [
    "# Evaluation of Decision Tree Model"
   ]
  },
  {
   "cell_type": "code",
   "execution_count": 48,
   "id": "8ac93b7c",
   "metadata": {},
   "outputs": [
    {
     "name": "stdout",
     "output_type": "stream",
     "text": [
      "Evaluation of Decision Tree Model: \n",
      "Accuracy: 0.9992\n",
      "Precision: 0.7115\n",
      "recall_score: 0.8162\n",
      "F1-Score: 0.7603\n"
     ]
    }
   ],
   "source": [
    "print(\"Evaluation of Decision Tree Model: \")\n",
    "\n",
    "print(\"Accuracy:\",round(accuracy_score(test_Y,predictions_data),4))\n",
    "print(\"Precision:\",round(precision_score(test_Y,predictions_data),4))\n",
    "print(\"recall_score:\",round(recall_score(test_Y,predictions_data),4))\n",
    "print(\"F1-Score:\",round(f1_score(test_Y,predictions_data),4))"
   ]
  },
  {
   "cell_type": "markdown",
   "id": "c1b197cc",
   "metadata": {},
   "source": [
    "# Evaluation metrics and Confusion Matrix for Decision Tree"
   ]
  },
  {
   "cell_type": "code",
   "execution_count": 49,
   "id": "078c6034",
   "metadata": {},
   "outputs": [
    {
     "name": "stdout",
     "output_type": "stream",
     "text": [
      "Evaluation of Random Forest Model: \n",
      "Accuracy: 0.9996\n",
      "Precision: 0.9298\n",
      "recall_score: 0.7794\n",
      "F1-Score: 0.848\n"
     ]
    }
   ],
   "source": [
    "print(\"Evaluation of Random Forest Model: \")\n",
    "\n",
    "print(\"Accuracy:\",round(accuracy_score(test_Y,predictions_data_rf),4))\n",
    "print(\"Precision:\",round(precision_score(test_Y,predictions_data_rf),4))\n",
    "print(\"recall_score:\",round(recall_score(test_Y,predictions_data_rf),4))\n",
    "print(\"F1-Score:\",round(f1_score(test_Y,predictions_data_rf),4))"
   ]
  },
  {
   "cell_type": "code",
   "execution_count": 50,
   "id": "784d0554",
   "metadata": {},
   "outputs": [
    {
     "name": "stdout",
     "output_type": "stream",
     "text": [
      "   CM   -  DT\n",
      "[[85262    45]\n",
      " [   25   111]]\n"
     ]
    }
   ],
   "source": [
    "confusion_matrix_dt = confusion_matrix(test_Y, predictions_data.round())\n",
    "print(\"   CM   -  DT\") # CM = Confusion matrix and DT = Decision tree\n",
    "print(confusion_matrix_dt)"
   ]
  },
  {
   "cell_type": "code",
   "execution_count": 51,
   "id": "2d622244",
   "metadata": {},
   "outputs": [],
   "source": [
    "# We will visualize the confusion matrix."
   ]
  },
  {
   "cell_type": "code",
   "execution_count": 52,
   "id": "90075438",
   "metadata": {},
   "outputs": [
    {
     "data": {
      "image/png": "[encoded data removed]",
      "text/plain": [
       "<Figure size 800x600 with 2 Axes>"
      ]
     },
     "metadata": {},
     "output_type": "display_data"
    }
   ],
   "source": [
    "# we will plot the confusion matrix\n",
    "plt.figure(figsize=[8,6])\n",
    "sns.heatmap(confusion_matrix_dt, annot=True , fmt='d' , cmap=\"Oranges\",\n",
    "            xticklabels=[\"Predicted Non-Fraudulent\" , \"Predicted Fraudulent\"],\n",
    "            yticklabels=[\"Actual Non-Fraudulent\", \"Actual Fraudulent\"])\n",
    "plt.title(\"Confusion Matrix of Decision Tree\")\n",
    "plt.xlabel(\"Predicted Label\")\n",
    "plt.ylabel(\"True Label\")\n",
    "plt.savefig(\"Confusion_Matrix_of_Decision_Tree.png\")\n",
    "plt.show()\n",
    "\n",
    "# 0 - non fraudulent\n",
    "# 1 - fradulent"
   ]
  },
  {
   "cell_type": "code",
   "execution_count": 53,
   "id": "111a60c3",
   "metadata": {},
   "outputs": [],
   "source": [
    "# We can interpret the information from the confusion matrix as follows:"
   ]
  },
  {
   "cell_type": "markdown",
   "id": "fb40daf5",
   "metadata": {},
   "source": [
    "Non-Fraudulent transactions:"
   ]
  },
  {
   "cell_type": "markdown",
   "id": "c3827e8b",
   "metadata": {},
   "source": [
    "1. A total of 85262 transactions were correctly identified as non-fraudulent (True Negative).\n",
    "2. 45 transactions were incorrectly flagged as fraudulent (False Positive)."
   ]
  },
  {
   "cell_type": "markdown",
   "id": "504a193a",
   "metadata": {},
   "source": [
    "Fraudulent transactions:"
   ]
  },
  {
   "cell_type": "markdown",
   "id": "28de4169",
   "metadata": {},
   "source": [
    "1. A total of 25 transactions were incorrectly identified as non-fraudulent (False Negative)\n",
    "2. 111 transactions were correctly identified as fraudulent (True Positive)."
   ]
  },
  {
   "cell_type": "code",
   "execution_count": 54,
   "id": "81ccb2cc",
   "metadata": {},
   "outputs": [],
   "source": [
    "# In-short summary:"
   ]
  },
  {
   "cell_type": "markdown",
   "id": "b694e2f2",
   "metadata": {},
   "source": [
    "1 85262 transactions were correctly labeled as non-fraudulent.\n",
    "2 111 transactions were accurately identified as fraudulent.\n",
    "3 45 transactions were incorrectly flagged as fraudulent.\n",
    "4 25 transactions were wrongly categorized as non-fraudulent."
   ]
  },
  {
   "cell_type": "markdown",
   "id": "eab4765d",
   "metadata": {},
   "source": [
    "# Evaluation Metrics and Confusion Matrix of Random Forest model"
   ]
  },
  {
   "cell_type": "code",
   "execution_count": 55,
   "id": "ce46331f",
   "metadata": {},
   "outputs": [
    {
     "name": "stdout",
     "output_type": "stream",
     "text": [
      "   CM   -  RF\n",
      "[[85299     8]\n",
      " [   30   106]]\n"
     ]
    }
   ],
   "source": [
    "# Confusion Matrix\n",
    "confusion_matrix_rf = confusion_matrix(test_Y,predictions_data_rf.round())\n",
    "print(\"   CM   -  RF\") # CM = Confusion matrix and RF = RandomForest\n",
    "print(confusion_matrix_rf)"
   ]
  },
  {
   "cell_type": "code",
   "execution_count": 66,
   "id": "51aef8e1",
   "metadata": {},
   "outputs": [
    {
     "data": {
      "image/png": "[encoded data removed]",
      "text/plain": [
       "<Figure size 800x600 with 2 Axes>"
      ]
     },
     "metadata": {},
     "output_type": "display_data"
    }
   ],
   "source": [
    "# we will plot the consfusion matrix\n",
    "plt.figure(figsize=[8,6])\n",
    "sns.heatmap(confusion_matrix_rf, annot=True , fmt='d' , cmap=\"Purples\",\n",
    "            xticklabels=[\"Predicted Non-Fraudulent\" , \"Predicted Fraudulent\"],\n",
    "            yticklabels=[\"Actual Non-Fraudulent\", \"Actual Fraudulent\"])\n",
    "plt.title(\"Confusion Matrix - Random Forest\")\n",
    "plt.xlabel(\"Predicted Label\")\n",
    "plt.ylabel(\"True Label\")\n",
    "plt.savefig(\"Confusion_Matrix_of_Random_Forest.png\")\n",
    "plt.show()\n",
    "\n",
    "# 0 - non fraudulent\n",
    "# 1 - fradulent"
   ]
  },
  {
   "cell_type": "code",
   "execution_count": 67,
   "id": "eefd4317",
   "metadata": {},
   "outputs": [],
   "source": [
    "# We can interpret the information from the confusion matrix as follows:"
   ]
  },
  {
   "cell_type": "markdown",
   "id": "4624c9d1",
   "metadata": {},
   "source": [
    "Non-Fraudulent transactions:\n",
    "\n",
    "1. A total of 85299 transactions were correctly identified as non-fraudulent (True Negative).\n",
    "2. 8 transactions were incorrectly flagged as fraudulent (False Positive).\n",
    "\n",
    "Fraudulent transactions:\n",
    "\n",
    "1. A total of 30 transactions were incorrectly identified as non-fraudulent (False Negative)\n",
    "2. 106 transactions were correctly identified as fraudulent (True Positive).\n",
    " \n",
    "# In-short summary:\n",
    "1. 85299 transactions were correctly labeled as non-fraudulent.\n",
    "2. 106 transactions were accurately identified as fraudulent.\n",
    "3. 30 transactions were incorrectly flagged as fraudulent.\n",
    "4. 8 transactions were wrongly categorized as non-fraudulent."
   ]
  },
  {
   "cell_type": "markdown",
   "id": "84b48465",
   "metadata": {},
   "source": [
    "Class-Imbalance"
   ]
  },
  {
   "cell_type": "markdown",
   "id": "711699ae",
   "metadata": {},
   "source": [
    "1. The Random Forest model performs better than Decision Trees, particularly with class imbalance, where legitimate transactions are over 99% and fraud is only 0.17%.  \n",
    "2. Training without addressing the imbalance may lead to biased predictions.  \n",
    "3. Although the model may show high accuracy, it may struggle to capture fraud cases effectively.  \n",
    "4. Oversampling is one technique to address the class imbalance issue."
   ]
  },
  {
   "cell_type": "code",
   "execution_count": 72,
   "id": "7a0fd8a8",
   "metadata": {
    "collapsed": true
   },
   "outputs": [
    {
     "name": "stdout",
     "output_type": "stream",
     "text": [
      "Requirement already satisfied: scikit-learn in e:\\users\\dhruv\\anaconda3\\lib\\site-packages (1.3.0)\n",
      "Collecting scikit-learn\n",
      "  Obtaining dependency information for scikit-learn from https://files.pythonhosted.org/packages/17/1c/ccdd103cfcc9435a18819856fbbe0c20b8fa60bfc3343580de4be13f0668/scikit_learn-1.5.2-cp311-cp311-win_amd64.whl.metadata\n",
      "  Downloading scikit_learn-1.5.2-cp311-cp311-win_amd64.whl.metadata (13 kB)\n",
      "Requirement already satisfied: numpy>=1.19.5 in e:\\users\\dhruv\\anaconda3\\lib\\site-packages (from scikit-learn) (1.24.3)\n",
      "Requirement already satisfied: scipy>=1.6.0 in e:\\users\\dhruv\\anaconda3\\lib\\site-packages (from scikit-learn) (1.11.1)\n",
      "Requirement already satisfied: joblib>=1.2.0 in e:\\users\\dhruv\\anaconda3\\lib\\site-packages (from scikit-learn) (1.2.0)\n",
      "Collecting threadpoolctl>=3.1.0 (from scikit-learn)\n",
      "  Obtaining dependency information for threadpoolctl>=3.1.0 from https://files.pythonhosted.org/packages/4b/2c/ffbf7a134b9ab11a67b0cf0726453cedd9c5043a4fe7a35d1cefa9a1bcfb/threadpoolctl-3.5.0-py3-none-any.whl.metadata\n",
      "  Downloading threadpoolctl-3.5.0-py3-none-any.whl.metadata (13 kB)\n",
      "Downloading scikit_learn-1.5.2-cp311-cp311-win_amd64.whl (11.0 MB)\n",
      "   ---------------------------------------- 0.0/11.0 MB ? eta -:--:--\n",
      "    --------------------------------------- 0.1/11.0 MB 2.8 MB/s eta 0:00:04\n",
      "   --- ------------------------------------ 1.0/11.0 MB 10.6 MB/s eta 0:00:01\n",
      "   -------- ------------------------------- 2.2/11.0 MB 17.9 MB/s eta 0:00:01\n",
      "   ------------ --------------------------- 3.6/11.0 MB 22.6 MB/s eta 0:00:01\n",
      "   ------------------- -------------------- 5.4/11.0 MB 23.1 MB/s eta 0:00:01\n",
      "   ------------------------- -------------- 7.1/11.0 MB 25.0 MB/s eta 0:00:01\n",
      "   -------------------------------- ------- 9.0/11.0 MB 27.3 MB/s eta 0:00:01\n",
      "   ---------------------------------------  10.8/11.0 MB 36.4 MB/s eta 0:00:01\n",
      "   ---------------------------------------  11.0/11.0 MB 34.6 MB/s eta 0:00:01\n",
      "   ---------------------------------------- 11.0/11.0 MB 28.5 MB/s eta 0:00:00\n",
      "Downloading threadpoolctl-3.5.0-py3-none-any.whl (18 kB)\n",
      "Installing collected packages: threadpoolctl, scikit-learn\n",
      "  Attempting uninstall: threadpoolctl\n",
      "    Found existing installation: threadpoolctl 2.2.0\n",
      "    Uninstalling threadpoolctl-2.2.0:\n",
      "      Successfully uninstalled threadpoolctl-2.2.0\n",
      "  Attempting uninstall: scikit-learn\n",
      "    Found existing installation: scikit-learn 1.3.0\n",
      "    Uninstalling scikit-learn-1.3.0:\n",
      "      Successfully uninstalled scikit-learn-1.3.0\n",
      "Successfully installed scikit-learn-1.5.2 threadpoolctl-3.5.0\n",
      "Note: you may need to restart the kernel to use updated packages.\n"
     ]
    }
   ],
   "source": [
    "pip install --upgrade scikit-learn"
   ]
  },
  {
   "cell_type": "code",
   "execution_count": null,
   "id": "f6cbd927",
   "metadata": {},
   "outputs": [],
   "source": []
  }
 ],
 "metadata": {
  "kernelspec": {
   "display_name": "Python 3 (ipykernel)",
   "language": "python",
   "name": "python3"
  },
  "language_info": {
   "codemirror_mode": {
    "name": "ipython",
    "version": 3
   },
   "file_extension": ".py",
   "mimetype": "text/x-python",
   "name": "python",
   "nbconvert_exporter": "python",
   "pygments_lexer": "ipython3",
   "version": "3.11.5"
  }
 },
 "nbformat": 4,
 "nbformat_minor": 5
}
